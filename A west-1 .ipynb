import lasio
import pandas as pd

# Load the LAS file with corrected path
las = lasio.read(r"K:\well data\a west-1.las")

# Convert the LAS data to a pandas DataFrame
df = las.df()

# Display the first few rows of the DataFrame
print(df.head())
